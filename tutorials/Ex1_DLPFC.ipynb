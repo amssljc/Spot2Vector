{
 "cells": [
  {
   "cell_type": "markdown",
   "id": "35c70ad9",
   "metadata": {},
   "source": [
    "# Test Spot2vector on the DLPFC data"
   ]
  },
  {
   "cell_type": "code",
   "execution_count": null,
   "id": "cfc792a2",
   "metadata": {
    "ExecuteTime": {
     "end_time": "2022-11-08T07:24:55.652967Z",
     "start_time": "2022-11-08T07:24:52.643176Z"
    }
   },
   "outputs": [],
   "source": [
    "import warnings\n",
    "warnings.filterwarnings(\"ignore\")\n",
    "import pandas as pd\n",
    "import numpy as np\n",
    "import scanpy as sc\n",
    "import seaborn as sns\n",
    "import matplotlib.pyplot as plt"
   ]
  },
  {
   "cell_type": "markdown",
   "id": "bd61495f",
   "metadata": {},
   "source": [
    "## Import data"
   ]
  },
  {
   "cell_type": "code",
   "execution_count": null,
   "id": "d54703cc",
   "metadata": {},
   "outputs": [],
   "source": [
    "slice_id = '151672'\n",
    "data_name = 'DLPFC_' + slice_id"
   ]
  },
  {
   "cell_type": "code",
   "execution_count": null,
   "id": "804b2b60",
   "metadata": {},
   "outputs": [],
   "source": [
    "n_clusters = 5"
   ]
  },
  {
   "cell_type": "code",
   "execution_count": null,
   "id": "3d0a4235",
   "metadata": {},
   "outputs": [],
   "source": [
    "adatast = sc.read_h5ad('./data/DLPFC/preprocess_' + data_name + '.h5ad')"
   ]
  },
  {
   "cell_type": "code",
   "execution_count": null,
   "id": "622081e2",
   "metadata": {},
   "outputs": [],
   "source": [
    "sc.pp.pca(adatast, n_comps=10)"
   ]
  },
  {
   "cell_type": "markdown",
   "id": "74d78854",
   "metadata": {},
   "source": [
    "## Run Spot2Vector"
   ]
  },
  {
   "cell_type": "code",
   "execution_count": null,
   "id": "ea9e3e49",
   "metadata": {},
   "outputs": [],
   "source": [
    "import Spot2Vector\n",
    "\n",
    "Spot2Vector.Build_Graph(adatast, radius_cutoff=150, cutoff_type='radius', graph_type='spatial')\n",
    "Spot2Vector.Build_Graph(adatast, neighbors_cutoff=4, cutoff_type='neighbors', graph_type='expression')"
   ]
  },
  {
   "cell_type": "code",
   "execution_count": null,
   "id": "ee3dbab1",
   "metadata": {},
   "outputs": [],
   "source": [
    "Spot2Vector.Graph_Stat_Plot(adatast)"
   ]
  },
  {
   "cell_type": "code",
   "execution_count": null,
   "id": "f9b9cbfa",
   "metadata": {},
   "outputs": [],
   "source": [
    "device = 'cuda:0'\n",
    "Spot2Vector.Fit(adatast, verbose=False, seed=6, device=device, max_epochs_st=1500)"
   ]
  },
  {
   "cell_type": "code",
   "execution_count": null,
   "id": "5c1cf234",
   "metadata": {},
   "outputs": [],
   "source": [
    "sns.lineplot(adatast.uns['training_history_df_st'], x='epoch', y='loss_total')"
   ]
  },
  {
   "cell_type": "markdown",
   "id": "93620814",
   "metadata": {},
   "source": [
    "## Clustering"
   ]
  },
  {
   "cell_type": "code",
   "execution_count": null,
   "id": "312c5796",
   "metadata": {},
   "outputs": [],
   "source": [
    "clust_method = 'mclust'"
   ]
  },
  {
   "cell_type": "code",
   "execution_count": null,
   "id": "d2858aca",
   "metadata": {},
   "outputs": [],
   "source": [
    "Spot2Vector.Clustering(adatast, obsm_data='exp_embeddings', method=clust_method, n_cluster=n_clusters, verbose=False)\n",
    "Spot2Vector.Clustering(adatast, obsm_data='spa_embeddings', method=clust_method, n_cluster=n_clusters, verbose=False)"
   ]
  },
  {
   "cell_type": "code",
   "execution_count": null,
   "id": "c3799691",
   "metadata": {},
   "outputs": [],
   "source": [
    "# lamda = 1 for expression, lamda = 0 for spatial\n",
    "Spot2Vector.Infer(adatast, lamda=0.2, device=device)"
   ]
  },
  {
   "cell_type": "code",
   "execution_count": null,
   "id": "ee25092e",
   "metadata": {},
   "outputs": [],
   "source": [
    "Spot2Vector.Clustering(adatast, obsm_data='embeddings', method = clust_method, n_cluster=n_clusters, verbose=False)"
   ]
  },
  {
   "cell_type": "code",
   "execution_count": null,
   "id": "56942ffa",
   "metadata": {},
   "outputs": [],
   "source": [
    "Spot2Vector.Clustering_Metrics(adatast, f'embeddings_{clust_method}')"
   ]
  },
  {
   "cell_type": "markdown",
   "id": "b0b98672",
   "metadata": {},
   "source": [
    "## Visualization"
   ]
  },
  {
   "cell_type": "code",
   "execution_count": null,
   "id": "ea976c36",
   "metadata": {},
   "outputs": [],
   "source": [
    "sc.pl.spatial(adatast,\n",
    "              color=[f\"embeddings_{clust_method}\",\n",
    "                     f\"exp_embeddings_{clust_method}\", \n",
    "                     f\"spa_embeddings_{clust_method}\", \n",
    "                     \"domain_annotation\"], \n",
    "              title=[f\"embeddings_{clust_method}\",\n",
    "                     f\"exp_embeddings_{clust_method}\", \n",
    "                     f\"spa_embeddings_{clust_method}\", \n",
    "                     \"domain_annotation\"], \n",
    "              size=1.3, \n",
    "              alpha=0.7)"
   ]
  },
  {
   "cell_type": "code",
   "execution_count": null,
   "id": "7ac9db21",
   "metadata": {},
   "outputs": [],
   "source": [
    "plt.rcParams[\"figure.figsize\"] = (3, 3)\n",
    "sc.pl.spatial(adatast, color=f\"embeddings_{clust_method}\", \n",
    "              title='Spot2vector (ARI=' + str(np.round(adatast.uns['embeddings_mclust_ARI'], 2)) + ')',\n",
    "              save=data_name + '_Spot2vector.svg')"
   ]
  }
 ],
 "metadata": {
  "kernelspec": {
   "display_name": "Python 3",
   "language": "python",
   "name": "python3"
  },
  "language_info": {
   "codemirror_mode": {
    "name": "ipython",
    "version": 3
   },
   "file_extension": ".py",
   "mimetype": "text/x-python",
   "name": "python",
   "nbconvert_exporter": "python",
   "pygments_lexer": "ipython3",
   "version": "3.9.19"
  },
  "toc": {
   "base_numbering": 1,
   "nav_menu": {},
   "number_sections": true,
   "sideBar": true,
   "skip_h1_title": false,
   "title_cell": "Table of Contents",
   "title_sidebar": "Contents",
   "toc_cell": false,
   "toc_position": {},
   "toc_section_display": true,
   "toc_window_display": false
  },
  "varInspector": {
   "cols": {
    "lenName": 16,
    "lenType": 16,
    "lenVar": 40
   },
   "kernels_config": {
    "python": {
     "delete_cmd_postfix": "",
     "delete_cmd_prefix": "del ",
     "library": "var_list.py",
     "varRefreshCmd": "print(var_dic_list())"
    },
    "r": {
     "delete_cmd_postfix": ") ",
     "delete_cmd_prefix": "rm(",
     "library": "var_list.r",
     "varRefreshCmd": "cat(var_dic_list()) "
    }
   },
   "types_to_exclude": [
    "module",
    "function",
    "builtin_function_or_method",
    "instance",
    "_Feature"
   ],
   "window_display": false
  }
 },
 "nbformat": 4,
 "nbformat_minor": 5
}
